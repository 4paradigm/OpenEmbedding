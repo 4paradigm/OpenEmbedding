{
 "metadata": {
  "language_info": {
   "codemirror_mode": {
    "name": "ipython",
    "version": 3
   },
   "file_extension": ".py",
   "mimetype": "text/x-python",
   "name": "python",
   "nbconvert_exporter": "python",
   "pygments_lexer": "ipython3",
   "version": "3"
  },
  "orig_nbformat": 4,
  "kernelspec": {
   "name": "python3",
   "display_name": "Python 3.7.3 64-bit"
  },
  "interpreter": {
   "hash": "51c43b68502c46154a57a0f411be94ca0e84f1091eab4730ae0fb62cf38c2f81"
  }
 },
 "nbformat": 4,
 "nbformat_minor": 2,
 "cells": [
  {
   "cell_type": "code",
   "execution_count": null,
   "metadata": {},
   "outputs": [],
   "source": [
    "!python3 criteo_lr.py --data dac_sample.csv --learning_rate 0.001 --batch_size 4096 --save criteo_model/1"
   ]
  },
  {
   "cell_type": "code",
   "execution_count": null,
   "metadata": {},
   "outputs": [],
   "source": [
    "!mlcompile criteo_lr.py -o ml_criteo_lr.py"
   ]
  },
  {
   "cell_type": "code",
   "execution_count": null,
   "metadata": {},
   "outputs": [],
   "source": [
    "!GLOG_minloglevel=1 python3 ml_criteo_lr.py --data dac_sample.csv --learning_rate 0.001 --batch_size 4096 --save criteo_model/2"
   ]
  },
  {
   "cell_type": "code",
   "execution_count": null,
   "metadata": {},
   "outputs": [],
   "source": [
    "!python3 criteo_predict.py --data dac_sample.csv --rows 1 --model criteo_model --host {serving地址}"
   ]
  }
 ]
}